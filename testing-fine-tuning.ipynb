{
 "cells": [
  {
   "cell_type": "code",
   "execution_count": null,
   "id": "efbbe038",
   "metadata": {},
   "outputs": [],
   "source": [
    "import os\n",
    "\n",
    "os.environ[\"CUDA_VISIBLE_DEVICES\"] = \"2\" # 2."
   ]
  },
  {
   "cell_type": "code",
   "execution_count": null,
   "id": "e6e8f0df",
   "metadata": {},
   "outputs": [],
   "source": [
    "test_prompts = [\n",
    "    # Basic Interaction Prompts\n",
    "    \"Hello, how can you help me today?\",\n",
    "    \"What's the weather like in New York City?\",\n",
    "    \"Can you tell me a joke?\",\n",
    "    \"Who is the current President of the United States?\",\n",
    "    \n",
    "    # Technical Inquiry Prompts\n",
    "    \"What's the difference between Python 2 and Python 3?\",\n",
    "    \"Can you explain the concept of neural networks?\",\n",
    "    \"How do I troubleshoot a '404 Not Found' error on my website?\",\n",
    "    \"Tell me about the latest advancements in AI research.\",\n",
    "    \n",
    "    # Personalized Assistance Prompts\n",
    "    \"I'm planning a trip to Paris. Can you recommend some attractions?\",\n",
    "    \"I'm looking for a recipe for homemade pizza. Can you help?\",\n",
    "    \"Can you remind me to call my doctor tomorrow at 10 AM?\",\n",
    "    \"What are some good exercises for strengthening my back?\",\n",
    "    \n",
    "    # Ethical Inquiry Prompts\n",
    "    \"What are the ethical considerations in AI development?\",\n",
    "    \"How do companies ensure data privacy?\",\n",
    "    \"What's your opinion on autonomous vehicles?\",\n",
    "    \"Can you describe the concept of fairness in machine learning?\",\n",
    "    \n",
    "    # Emotion Handling Prompts\n",
    "    \"I'm feeling down today. Can you cheer me up?\",\n",
    "    \"I'm so excited about my new job! What's your response?\",\n",
    "    \"I'm really frustrated with my computer issues. Can you provide assistance?\",\n",
    "    \"I'm curious about the universe. Can you tell me something fascinating?\",\n",
    "]"
   ]
  }
 ],
 "metadata": {
  "language_info": {
   "name": "python"
  }
 },
 "nbformat": 4,
 "nbformat_minor": 5
}
