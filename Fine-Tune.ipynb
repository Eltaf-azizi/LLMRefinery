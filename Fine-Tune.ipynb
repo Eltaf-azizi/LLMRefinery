{
 "cells": [
  {
   "cell_type": "code",
   "execution_count": null,
   "id": "8743e9e8",
   "metadata": {},
   "outputs": [],
   "source": [
    "import os\n",
    "\n",
    "os.environ[\"CUDA_VISIBLE_DEVICES\"] = \"1\" # 2 for inference later."
   ]
  },
  {
   "cell_type": "code",
   "execution_count": null,
   "id": "e36b58ac",
   "metadata": {},
   "outputs": [],
   "source": [
    "# Based on code found here: https://colab.research.google.com/drive/1PEQyJO1-f6j0S_XJ8DV50NkpzasXkrzd?usp=sharing#scrollTo=x-xPb-_qB0dz\n",
    "\n",
    "import os\n",
    "import torch\n",
    "from datasets import load_dataset\n",
    "from transformers import (\n",
    "    AutoModelForCausalLM,\n",
    "    AutoTokenizer,\n",
    "    BitsAndBytesConfig,\n",
    "    HfArgumentParser,\n",
    "    TrainingArguments,\n",
    "    pipeline,\n",
    "    logging,\n",
    ")\n",
    "from peft import LoraConfig, PeftModel\n",
    "from trl import SFTTrainer\n",
    "import time\n",
    "\n",
    "BATCH_SIZE = 7\n",
    "HM_STEPS = 5000"
   ]
  }
 ],
 "metadata": {
  "language_info": {
   "name": "python"
  }
 },
 "nbformat": 4,
 "nbformat_minor": 5
}
