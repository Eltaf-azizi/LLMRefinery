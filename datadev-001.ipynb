{
 "cells": [
  {
   "cell_type": "code",
   "execution_count": null,
   "id": "11b631c2",
   "metadata": {},
   "outputs": [],
   "source": [
    "import os\n",
    "import json \n",
    "import pandas as pd\n",
    "from tqdm import tqdm\n",
    "\n",
    "\n",
    "# Set the directory\n",
    "directory = \"2017_j\"\n",
    "target_subreddits = [\"wallstreetbets\"]\n",
    "\n",
    "# Create an empty dataframe\n",
    "df = pd.DataFrame(columns=[\"subreddit\", \"author\", \"created_utc\", \"parent_id\", \"id\", \"body\"])\n",
    "\n",
    "\n",
    "# Iterate over the files in ascending order by filename, set number of files to process\n",
    "files = sorted([f for f in os.listdir(directory)])\n",
    "files = files[:25]\n",
    "print(files)\n",
    "\n",
    "for file in tqdm(files):\n",
    "    with open(f\"{directory}/{file}\", \"r\") as f:\n",
    "        tmpdf = pd.DataFrame([json.loads(line) for line in f])\n",
    "        # filter out the rows that do not have the target subreddit\n",
    "        tmpdf = tmpdf[tmpdf[\"subreddit\"].isin(target_subreddits)]\n",
    "        # print(tmpdf.head())\n",
    "        df = pd.concat([df, tmpdf[[\"subreddit\", \"author\", \"created_utc\", \"parent_id\", \"id\", \"body\"]]])\n",
    "\n",
    "        print(df.head())\n",
    "        print('length:', len(df))\n",
    "        df = df.sort_values(by=\"created_utc\")"
   ]
  },
  {
   "cell_type": "code",
   "execution_count": null,
   "id": "9b70f393",
   "metadata": {},
   "outputs": [],
   "source": [
    "print(df.head())"
   ]
  },
  {
   "cell_type": "code",
   "execution_count": null,
   "id": "863e3831",
   "metadata": {},
   "outputs": [],
   "source": [
    "df['id']\n",
    "\n",
    "for id in df['id']:\n",
    "    print(id)"
   ]
  },
  {
   "cell_type": "code",
   "execution_count": null,
   "id": "f32f2ce9",
   "metadata": {},
   "outputs": [],
   "source": [
    "conversations = {}\n",
    "\n",
    "for index, row in df.iterrows():\n",
    "    latest_body = row[\"body\"]\n",
    "    latest_author = row[\"author\"]\n",
    "    latest_id = row[\"id\"]"
   ]
  }
 ],
 "metadata": {
  "kernelspec": {
   "display_name": ".conda",
   "language": "python",
   "name": "python3"
  },
  "language_info": {
   "name": "python",
   "version": "3.12.11"
  }
 },
 "nbformat": 4,
 "nbformat_minor": 5
}
