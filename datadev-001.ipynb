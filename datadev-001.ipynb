{
 "cells": [
  {
   "cell_type": "code",
   "execution_count": null,
   "id": "5eac819f",
   "metadata": {},
   "outputs": [],
   "source": [
    "compressed_dir = \"2017_dev_c\"\n",
    "decompressed_dir = \"2017_dev\"\n",
    "\n",
    "# decompress all the .gzip files in compressed dir and put into decompressed dir\n",
    "\n",
    "import os\n",
    "import gzip\n",
    "import shutil\n",
    "\n",
    "if not os.path.exists(decompressed_dir):\n",
    "    os.makedirs(decompressed_dir)\n",
    "\n",
    "for root, dirs, files in os.walk(compressed_dir):\n",
    "    for file in files:\n",
    "        if file.endswith(\".gzip\"):\n",
    "            with gzip.open(os.path.join(root, file), 'rb') as f_in:\n",
    "                with open(os.path.join(decompressed_dir, file[:-5]), 'wb') as f_out:\n",
    "                    shutil.copyfileobj(f_in, f_out)\n",
    "                \n",
    "                print(\"Decompressed\", file)\n"
   ]
  }
 ],
 "metadata": {
  "kernelspec": {
   "display_name": ".conda",
   "language": "python",
   "name": "python3"
  },
  "language_info": {
   "name": "python",
   "version": "3.12.11"
  }
 },
 "nbformat": 4,
 "nbformat_minor": 5
}
